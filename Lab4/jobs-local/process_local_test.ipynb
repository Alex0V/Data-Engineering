{
 "cells": [
  {
   "cell_type": "markdown",
   "id": "a33e4187",
   "metadata": {},
   "source": [
    "# Run all"
   ]
  },
  {
   "cell_type": "code",
   "execution_count": 1,
   "id": "8378e99a",
   "metadata": {},
   "outputs": [],
   "source": [
    "from pyspark.sql import SparkSession\n",
    "from pyspark.sql import DataFrame\n",
    "from pyspark.sql.functions import col, avg, to_date, count, desc, month, year, row_number, expr\n",
    "from pyspark.sql.window import Window\n",
    "import os"
   ]
  },
  {
   "cell_type": "code",
   "execution_count": 2,
   "id": "92167799",
   "metadata": {},
   "outputs": [],
   "source": [
    "# середня тривалість поїздок на день\n",
    "def avg_trip_duration_per_day(df) -> DataFrame:\n",
    "    # Виділяємо дату\n",
    "    df = df.withColumn(\"start_date\", to_date(col(\"start_time\"), \"MM/dd/yyyy HH:mm\"))\n",
    "\n",
    "    # групуємо за start_date, агрегую(agg) визначаючи середнє тривалості поїздок, результат в нову колонку average_trip_duration\n",
    "    result = df.groupBy(\"start_date\").agg(avg(\"tripduration\").alias(\"average_trip_duration\"))\n",
    "\n",
    "    # замість Hadoop, вирішив конвертувати в Pandas і вже за допомогою нього зберігати в csv\n",
    "    result.toPandas().to_csv(\"./out-local/avg_trip_duration_per_day.csv\", index=False)\n",
    "    return result"
   ]
  },
  {
   "cell_type": "code",
   "execution_count": 3,
   "id": "31e61cfd",
   "metadata": {},
   "outputs": [],
   "source": [
    "# кількість поїздок на день\n",
    "def trips_per_day(df) -> DataFrame:\n",
    "    # Виділяємо дату\n",
    "    df = df.withColumn(\"start_date\", to_date(col(\"start_time\"), \"MM/dd/yyyy HH:mm\"))\n",
    "\n",
    "    # групуємо за start_date, агрегуємо(agg) визначаючи кількість поїздок на день, результат в нову колонку trip_count\n",
    "    result = df.groupBy(\"start_date\").agg(count(\"trip_id\").alias(\"trip_count\"))\n",
    "\n",
    "    # збереження в csv\n",
    "    result.toPandas().to_csv(\"./out-local/trips_per_day.csv\", index=False)\n",
    "    return result"
   ]
  },
  {
   "cell_type": "code",
   "execution_count": 4,
   "id": "c8147509",
   "metadata": {},
   "outputs": [],
   "source": [
    "# найпопулярніша початкова станція для кожного місяця\n",
    "def most_popular_start_station_by_month(df):\n",
    "    # Виділяємо рік і місяць\n",
    "    df = df.withColumn(\"month\", month(to_date(col(\"start_time\"), \"MM/dd/yyyy HH:mm\")))\n",
    "    df = df.withColumn(\"year\", year(to_date(col(\"start_time\"), \"MM/dd/yyyy HH:mm\")))\n",
    "\n",
    "    # Рахуємо кількість поїздок з кожної станції в кожному місяці\n",
    "    grouped = df.groupBy(\"year\", \"month\", \"from_station_name\").agg(count(\"*\").alias(\"trip_count\"))\n",
    "    \n",
    "    # Вікно для ранжування поїздок по кожному місяцю\n",
    "    window_spec = Window.partitionBy(\"year\", \"month\").orderBy(col(\"trip_count\").desc())\n",
    "\n",
    "    # Додаємо ранг і відбираємо лише топ-1 для кожного місяця\n",
    "    result = grouped.withColumn(\"rank\", row_number().over(window_spec)).filter(col(\"rank\") == 1).drop(\"rank\")\n",
    "    \n",
    "    # збереження в csv\n",
    "    result.toPandas().to_csv(\"./out-local/popular_stations_by_month.csv\", index=False)\n",
    "\n",
    "    return result"
   ]
  },
  {
   "cell_type": "code",
   "execution_count": 5,
   "id": "9e0e8720",
   "metadata": {},
   "outputs": [],
   "source": [
    "def top_3_stations_for_day_since_two_week(df) -> DataFrame:\n",
    "    # Виділяємо дату\n",
    "    df = df.withColumn(\"start_date\", to_date(col(\"start_time\"), \"MM/dd/yyyy HH:mm\"))\n",
    "\n",
    "    # визначаємо останню дату з датасету\n",
    "    latest_date = df.select(col(\"start_date\")).distinct().orderBy(desc(\"start_date\")).limit(1).collect()[0][0]\n",
    "\n",
    "    # визначаємо дату, яка на 14 днів раніше від latest_date\n",
    "    last_two_weeks = df.filter(col(\"start_date\") >= latest_date - expr(\"INTERVAL 14 DAYS\")) \n",
    "    \n",
    "    # групуємо по start_date, from_station_name, обчислюємо кількість поїздок (trip_id) для кожної станції за кожен день\n",
    "    top_3_stations = last_two_weeks.groupBy(\"start_date\", \"from_station_name\").agg(count(\"trip_id\").alias(\"count\"))\n",
    "\n",
    "     # використовуємо той самий прийом з вікном і розділом на групи по даті, потім ті групи сортуємо за спаданням по кількості поїздок count\n",
    "    top_3_stations = top_3_stations.withColumn(\"popularity_top\", row_number().over(Window.partitionBy(\"start_date\").orderBy(desc(\"count\"))))\n",
    "\n",
    "    # перші три по популярності\n",
    "    result = top_3_stations.filter(col(\"popularity_top\") <= 3)\n",
    "\n",
    "    # збереження в csv\n",
    "    result.toPandas().to_csv(\"./out-local/top_3_stations_for_day_since_two_week.csv\", index=False)\n",
    "    return result"
   ]
  },
  {
   "cell_type": "code",
   "execution_count": 6,
   "id": "5da2678c",
   "metadata": {},
   "outputs": [],
   "source": [
    "# середня тривалість поїздок за статтю\n",
    "def avg_duration_by_gender(df) -> DataFrame:\n",
    "    # групуємо за статтю і визначаємо середнє поїздок\n",
    "    result = df.groupBy(\"gender\").agg(avg(\"tripduration\").alias(\"average_duration\"))\n",
    "\n",
    "    # збереження в csv\n",
    "    result.toPandas().to_csv(\"./out-local/avg_duration_by_gender.csv\", index=False)\n",
    "    return result"
   ]
  },
  {
   "cell_type": "code",
   "execution_count": 9,
   "id": "b43f53bb",
   "metadata": {},
   "outputs": [],
   "source": [
    "spark = SparkSession.builder \\\n",
    "    .appName(\"Journey Info\") \\\n",
    "    .getOrCreate()\n",
    "    \n",
    "df = spark.read.csv(\"../jobs/Divvy_Trips_2019_Q4.csv\", header=True, inferSchema=True)\n",
    "os.makedirs(\"./out-local\", exist_ok=True)"
   ]
  },
  {
   "cell_type": "code",
   "execution_count": 10,
   "id": "0d784b5c",
   "metadata": {},
   "outputs": [
    {
     "name": "stdout",
     "output_type": "stream",
     "text": [
      "+----------+---------------------+\n",
      "|start_date|average_trip_duration|\n",
      "+----------+---------------------+\n",
      "|2019-10-05|    529.6975832789027|\n",
      "|2019-10-01|    519.1034563470391|\n",
      "|2019-10-04|    502.3697794462694|\n",
      "|2019-10-02|    489.1325637447672|\n",
      "|2019-10-06|    540.2795057520239|\n",
      "|2019-10-07|    515.5357023690357|\n",
      "|2019-10-03|    507.1099269445638|\n",
      "|2019-10-08|    515.4543694020819|\n",
      "|2019-10-14|   497.98104315039797|\n",
      "|2019-10-12|    500.3075485799701|\n",
      "|2019-10-10|   505.07017693819984|\n",
      "|2019-10-13|    522.7091085584857|\n",
      "|2019-10-11|    475.8004881025015|\n",
      "|2019-10-09|    512.1497682738434|\n",
      "|2019-10-21|    496.8957780725022|\n",
      "|2019-10-15|   495.01938976377954|\n",
      "|2019-10-20|    519.4521739130435|\n",
      "|2019-10-17|     492.546112804878|\n",
      "|2019-10-16|    489.1441823744202|\n",
      "|2019-10-18|   501.65576186265844|\n",
      "+----------+---------------------+\n",
      "only showing top 20 rows\n",
      "\n"
     ]
    }
   ],
   "source": [
    "result_avg_trip_duration_per_day = avg_trip_duration_per_day(df)\n",
    "result_avg_trip_duration_per_day.show()"
   ]
  },
  {
   "cell_type": "code",
   "execution_count": 11,
   "id": "8e31b831",
   "metadata": {},
   "outputs": [
    {
     "name": "stdout",
     "output_type": "stream",
     "text": [
      "+----------+----------+\n",
      "|start_date|trip_count|\n",
      "+----------+----------+\n",
      "|2019-10-05|     10452|\n",
      "|2019-10-01|     18425|\n",
      "|2019-10-04|     14570|\n",
      "|2019-10-02|      9882|\n",
      "|2019-10-06|     13396|\n",
      "|2019-10-07|     17256|\n",
      "|2019-10-03|     15647|\n",
      "|2019-10-08|     17537|\n",
      "|2019-10-14|     13785|\n",
      "|2019-10-12|      8702|\n",
      "|2019-10-10|     15795|\n",
      "|2019-10-13|     10533|\n",
      "|2019-10-11|      8016|\n",
      "|2019-10-09|     17226|\n",
      "|2019-10-21|     11757|\n",
      "|2019-10-15|     13297|\n",
      "|2019-10-20|     10419|\n",
      "|2019-10-17|     13635|\n",
      "|2019-10-16|     12886|\n",
      "|2019-10-18|     14096|\n",
      "+----------+----------+\n",
      "only showing top 20 rows\n",
      "\n"
     ]
    }
   ],
   "source": [
    "result_trips_per_day = trips_per_day(df)\n",
    "result_trips_per_day.show()"
   ]
  },
  {
   "cell_type": "code",
   "execution_count": 12,
   "id": "48f3edc5",
   "metadata": {},
   "outputs": [
    {
     "name": "stdout",
     "output_type": "stream",
     "text": [
      "+----+-----+-------------------+----------+\n",
      "|year|month|  from_station_name|trip_count|\n",
      "+----+-----+-------------------+----------+\n",
      "|2019|   10|Canal St & Adams St|      6564|\n",
      "|2019|   11|Canal St & Adams St|      3445|\n",
      "|2019|   12|Canal St & Adams St|      2928|\n",
      "+----+-----+-------------------+----------+\n",
      "\n"
     ]
    }
   ],
   "source": [
    "result_most_popular_start_station_by_month = most_popular_start_station_by_month(df)\n",
    "result_most_popular_start_station_by_month.show()"
   ]
  },
  {
   "cell_type": "code",
   "execution_count": 13,
   "id": "e426a001",
   "metadata": {},
   "outputs": [
    {
     "name": "stdout",
     "output_type": "stream",
     "text": [
      "+----------+--------------------+-----+--------------+\n",
      "|start_date|   from_station_name|count|popularity_top|\n",
      "+----------+--------------------+-----+--------------+\n",
      "|2019-12-17| Canal St & Adams St|  153|             1|\n",
      "|2019-12-17|Clinton St & Madi...|  144|             2|\n",
      "|2019-12-17|Clinton St & Wash...|  124|             3|\n",
      "|2019-12-18| Canal St & Adams St|  123|             1|\n",
      "|2019-12-18|Clinton St & Madi...|  115|             2|\n",
      "|2019-12-18|Clinton St & Wash...|   94|             3|\n",
      "|2019-12-19| Canal St & Adams St|  133|             1|\n",
      "|2019-12-19|Clinton St & Madi...|  123|             2|\n",
      "|2019-12-19|Clinton St & Wash...|   95|             3|\n",
      "|2019-12-20| Canal St & Adams St|  131|             1|\n",
      "|2019-12-20|Clinton St & Wash...|  109|             2|\n",
      "|2019-12-20|Clinton St & Madi...|   94|             3|\n",
      "|2019-12-21|Streeter Dr & Gra...|   63|             1|\n",
      "|2019-12-21|Kingsbury St & Ki...|   47|             2|\n",
      "|2019-12-21|Wells St & Concor...|   46|             3|\n",
      "|2019-12-22|      Shedd Aquarium|   87|             1|\n",
      "|2019-12-22|Lake Shore Dr & M...|   79|             2|\n",
      "|2019-12-22|Streeter Dr & Gra...|   70|             3|\n",
      "|2019-12-23| Canal St & Adams St|  109|             1|\n",
      "|2019-12-23|Clinton St & Madi...|   87|             2|\n",
      "+----------+--------------------+-----+--------------+\n",
      "only showing top 20 rows\n",
      "\n"
     ]
    }
   ],
   "source": [
    "result_top_3_stations_for_day_since_two_week = top_3_stations_for_day_since_two_week(df)\n",
    "result_top_3_stations_for_day_since_two_week.show()"
   ]
  },
  {
   "cell_type": "code",
   "execution_count": 14,
   "id": "216470d2",
   "metadata": {},
   "outputs": [
    {
     "name": "stdout",
     "output_type": "stream",
     "text": [
      "+------+-----------------+\n",
      "|gender| average_duration|\n",
      "+------+-----------------+\n",
      "|  NULL|611.8951609483015|\n",
      "|Female|509.8082474784837|\n",
      "|  Male|478.6205057415161|\n",
      "+------+-----------------+\n",
      "\n"
     ]
    }
   ],
   "source": [
    "result_avg_duration_by_gender = avg_duration_by_gender(df)\n",
    "result_avg_duration_by_gender.show()"
   ]
  },
  {
   "cell_type": "code",
   "execution_count": 15,
   "id": "d8ac43a9",
   "metadata": {},
   "outputs": [],
   "source": [
    "spark.stop()"
   ]
  }
 ],
 "metadata": {
  "kernelspec": {
   "display_name": "venv",
   "language": "python",
   "name": "python3"
  },
  "language_info": {
   "codemirror_mode": {
    "name": "ipython",
    "version": 3
   },
   "file_extension": ".py",
   "mimetype": "text/x-python",
   "name": "python",
   "nbconvert_exporter": "python",
   "pygments_lexer": "ipython3",
   "version": "3.10.11"
  }
 },
 "nbformat": 4,
 "nbformat_minor": 5
}
